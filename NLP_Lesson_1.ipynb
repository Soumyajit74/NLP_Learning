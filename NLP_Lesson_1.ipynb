{
  "nbformat": 4,
  "nbformat_minor": 0,
  "metadata": {
    "colab": {
      "name": "NLP Lesson 1.ipynb",
      "provenance": [],
      "collapsed_sections": [],
      "authorship_tag": "ABX9TyM3On69+ybFCKOSWmjEOgNf",
      "include_colab_link": true
    },
    "kernelspec": {
      "name": "python3",
      "display_name": "Python 3"
    },
    "language_info": {
      "name": "python"
    }
  },
  "cells": [
    {
      "cell_type": "markdown",
      "metadata": {
        "id": "view-in-github",
        "colab_type": "text"
      },
      "source": [
        "<a href=\"https://colab.research.google.com/github/Soumyajit74/NLP_Learning/blob/master/NLP_Lesson_1.ipynb\" target=\"_parent\"><img src=\"https://colab.research.google.com/assets/colab-badge.svg\" alt=\"Open In Colab\"/></a>"
      ]
    },
    {
      "cell_type": "code",
      "execution_count": null,
      "metadata": {
        "colab": {
          "base_uri": "https://localhost:8080/"
        },
        "id": "h3ctMcwdPxFB",
        "outputId": "bd4c3a95-888c-40b5-b7b7-cb8acfc3f962"
      },
      "outputs": [
        {
          "output_type": "stream",
          "name": "stdout",
          "text": [
            "Looking in indexes: https://pypi.org/simple, https://us-python.pkg.dev/colab-wheels/public/simple/\n",
            "Requirement already satisfied: nltk in /usr/local/lib/python3.7/dist-packages (3.7)\n",
            "Requirement already satisfied: tqdm in /usr/local/lib/python3.7/dist-packages (from nltk) (4.64.0)\n",
            "Requirement already satisfied: click in /usr/local/lib/python3.7/dist-packages (from nltk) (7.1.2)\n",
            "Requirement already satisfied: regex>=2021.8.3 in /usr/local/lib/python3.7/dist-packages (from nltk) (2022.6.2)\n",
            "Requirement already satisfied: joblib in /usr/local/lib/python3.7/dist-packages (from nltk) (1.1.0)\n"
          ]
        }
      ],
      "source": [
        "!pip install nltk"
      ]
    },
    {
      "cell_type": "code",
      "source": [
        "#paragraph or corpus\n",
        "paragraph=\"\"\"\n",
        "Apart from design commonalities and few critical systems from its predecessor Tejas Mark 1A, most of the technologies are to be borrowed from whatever has been developed so far for Advanced Medium Combat Aircraft programmme. Several radar cross-section-reducing measures will be incorporated in the airframe design so that a degree of frontal stealth can be achieved, including radar-absorbent material coating and composites making up its skin and twisted air-intake ducts. It has a tail-less compound delta-wing configuration with a single vertical stabilizer and close-coupled canards to provide static instability and high manoeuvrability, and is equipped with fly-by-wire systems to control instability.\n",
        "\n",
        "This MWF is also to feature an indigenous integrated life-support system-onboard oxygen generation system (ILSS-OBOGS), from Defence Bioengineering and Electromedical Laboratory, aircraft health and usage monitoring system to integrate various sensors onboard Tejas Mark 2 from Defence Institute of Advanced Technology and a built-in integrated electro-optic electronic warfare suite, among other improvements to avionics.[13][14][15]\n",
        "\n",
        "It will have an infra-red search and track (IRST) system and a missile approach warning system.[16] An increase in payload capacity to 6,500 kg (14,300 lb) and internal fuel capacity to over 3,400 kg (7,500 lb), will allow it to carry more weapons with a longer range.[17]\n",
        "\n",
        "Sensors and avionics\n",
        "The avionics of Tejas Mark 2 will be centered on multisensor data fusion incorporating both active and passive sensors on board. The Tejas Mark 2 would be equipped with a variant of Uttam AESA Radar developed by Electronics and Radar Development Establishment, while the combat aircraft will also have an integrated IRST system for passive target acquisition. The Tejas Mark 2 will have indigenous software-defined radio-based tactical data link for secured communication and network-centric warfare capabilities supported by the IAF's AFNet digital information grid.\n",
        "\"\"\""
      ],
      "metadata": {
        "id": "95npO7PnamTb"
      },
      "execution_count": null,
      "outputs": []
    },
    {
      "cell_type": "code",
      "source": [
        "paragraph"
      ],
      "metadata": {
        "colab": {
          "base_uri": "https://localhost:8080/",
          "height": 244
        },
        "id": "8B288qhSbXD1",
        "outputId": "9d271e61-1303-46bc-cb8b-0387ae46ebc5"
      },
      "execution_count": null,
      "outputs": [
        {
          "output_type": "execute_result",
          "data": {
            "text/plain": [
              "\"\\nApart from design commonalities and few critical systems from its predecessor Tejas Mark 1A, most of the technologies are to be borrowed from whatever has been developed so far for Advanced Medium Combat Aircraft programmme. Several radar cross-section-reducing measures will be incorporated in the airframe design so that a degree of frontal stealth can be achieved, including radar-absorbent material coating and composites making up its skin and twisted air-intake ducts. It has a tail-less compound delta-wing configuration with a single vertical stabilizer and close-coupled canards to provide static instability and high manoeuvrability, and is equipped with fly-by-wire systems to control instability.\\n\\nThis MWF is also to feature an indigenous integrated life-support system-onboard oxygen generation system (ILSS-OBOGS), from Defence Bioengineering and Electromedical Laboratory, aircraft health and usage monitoring system to integrate various sensors onboard Tejas Mark 2 from Defence Institute of Advanced Technology and a built-in integrated electro-optic electronic warfare suite, among other improvements to avionics.[13][14][15]\\n\\nIt will have an infra-red search and track (IRST) system and a missile approach warning system.[16] An increase in payload capacity to 6,500 kg (14,300 lb) and internal fuel capacity to over 3,400 kg (7,500 lb), will allow it to carry more weapons with a longer range.[17]\\n\\nSensors and avionics\\nThe avionics of Tejas Mark 2 will be centered on multisensor data fusion incorporating both active and passive sensors on board. The Tejas Mark 2 would be equipped with a variant of Uttam AESA Radar developed by Electronics and Radar Development Establishment, while the combat aircraft will also have an integrated IRST system for passive target acquisition. The Tejas Mark 2 will have indigenous software-defined radio-based tactical data link for secured communication and network-centric warfare capabilities supported by the IAF's AFNet digital information grid.\\n\""
            ],
            "application/vnd.google.colaboratory.intrinsic+json": {
              "type": "string"
            }
          },
          "metadata": {},
          "execution_count": 4
        }
      ]
    },
    {
      "cell_type": "code",
      "source": [
        "import nltk\n",
        "from nltk.stem import PorterStemmer\n",
        "from nltk.corpus import stopwords"
      ],
      "metadata": {
        "id": "2V43-QIdbjGV"
      },
      "execution_count": null,
      "outputs": []
    },
    {
      "cell_type": "code",
      "source": [
        "#tokenization: convert paras into sentenses words\n",
        "nltk.download('punkt')\n",
        "sentences= nltk.sent_tokenize(paragraph)"
      ],
      "metadata": {
        "colab": {
          "base_uri": "https://localhost:8080/"
        },
        "id": "apkwcgsXcEH-",
        "outputId": "730e0f1f-bce6-4bc2-e531-496627d23436"
      },
      "execution_count": null,
      "outputs": [
        {
          "output_type": "stream",
          "name": "stderr",
          "text": [
            "[nltk_data] Downloading package punkt to /root/nltk_data...\n",
            "[nltk_data]   Unzipping tokenizers/punkt.zip.\n"
          ]
        }
      ]
    },
    {
      "cell_type": "code",
      "source": [
        "print(sentences)"
      ],
      "metadata": {
        "colab": {
          "base_uri": "https://localhost:8080/"
        },
        "id": "2zkmPPFhcglT",
        "outputId": "72b8b91d-ce5d-4201-c7a5-71a6f608770b"
      },
      "execution_count": null,
      "outputs": [
        {
          "output_type": "stream",
          "name": "stdout",
          "text": [
            "['\\nApart from design commonalities and few critical systems from its predecessor Tejas Mark 1A, most of the technologies are to be borrowed from whatever has been developed so far for Advanced Medium Combat Aircraft programmme.', 'Several radar cross-section-reducing measures will be incorporated in the airframe design so that a degree of frontal stealth can be achieved, including radar-absorbent material coating and composites making up its skin and twisted air-intake ducts.', 'It has a tail-less compound delta-wing configuration with a single vertical stabilizer and close-coupled canards to provide static instability and high manoeuvrability, and is equipped with fly-by-wire systems to control instability.', 'This MWF is also to feature an indigenous integrated life-support system-onboard oxygen generation system (ILSS-OBOGS), from Defence Bioengineering and Electromedical Laboratory, aircraft health and usage monitoring system to integrate various sensors onboard Tejas Mark 2 from Defence Institute of Advanced Technology and a built-in integrated electro-optic electronic warfare suite, among other improvements to avionics.', '[13][14][15]\\n\\nIt will have an infra-red search and track (IRST) system and a missile approach warning system.', '[16] An increase in payload capacity to 6,500 kg (14,300 lb) and internal fuel capacity to over 3,400 kg (7,500 lb), will allow it to carry more weapons with a longer range.', '[17]\\n\\nSensors and avionics\\nThe avionics of Tejas Mark 2 will be centered on multisensor data fusion incorporating both active and passive sensors on board.', 'The Tejas Mark 2 would be equipped with a variant of Uttam AESA Radar developed by Electronics and Radar Development Establishment, while the combat aircraft will also have an integrated IRST system for passive target acquisition.', \"The Tejas Mark 2 will have indigenous software-defined radio-based tactical data link for secured communication and network-centric warfare capabilities supported by the IAF's AFNet digital information grid.\"]\n"
          ]
        }
      ]
    },
    {
      "cell_type": "code",
      "source": [
        "#use stemming: finds base root word\n",
        "stemmer=PorterStemmer()"
      ],
      "metadata": {
        "id": "56Jca2p4cz3a"
      },
      "execution_count": null,
      "outputs": []
    },
    {
      "cell_type": "code",
      "source": [
        "stemmer.stem('gliding')"
      ],
      "metadata": {
        "colab": {
          "base_uri": "https://localhost:8080/",
          "height": 35
        },
        "id": "PiOiiebpc8sn",
        "outputId": "bdfdc8e7-981d-4af2-ea93-e8afbc858b96"
      },
      "execution_count": null,
      "outputs": [
        {
          "output_type": "execute_result",
          "data": {
            "text/plain": [
              "'glide'"
            ],
            "application/vnd.google.colaboratory.intrinsic+json": {
              "type": "string"
            }
          },
          "metadata": {},
          "execution_count": 9
        }
      ]
    },
    {
      "cell_type": "code",
      "source": [
        "from nltk.stem import WordNetLemmatizer\n",
        "nltk.download(\"all\")"
      ],
      "metadata": {
        "colab": {
          "base_uri": "https://localhost:8080/"
        },
        "id": "msFZxZmpdlly",
        "outputId": "8bba219d-9bba-4436-d116-152aa413d6eb"
      },
      "execution_count": null,
      "outputs": [
        {
          "output_type": "stream",
          "name": "stderr",
          "text": [
            "[nltk_data] Downloading collection 'all'\n",
            "[nltk_data]    | \n",
            "[nltk_data]    | Downloading package abc to /root/nltk_data...\n",
            "[nltk_data]    |   Unzipping corpora/abc.zip.\n",
            "[nltk_data]    | Downloading package alpino to /root/nltk_data...\n",
            "[nltk_data]    |   Unzipping corpora/alpino.zip.\n",
            "[nltk_data]    | Downloading package averaged_perceptron_tagger to\n",
            "[nltk_data]    |     /root/nltk_data...\n",
            "[nltk_data]    |   Unzipping taggers/averaged_perceptron_tagger.zip.\n",
            "[nltk_data]    | Downloading package averaged_perceptron_tagger_ru to\n",
            "[nltk_data]    |     /root/nltk_data...\n",
            "[nltk_data]    |   Unzipping\n",
            "[nltk_data]    |       taggers/averaged_perceptron_tagger_ru.zip.\n",
            "[nltk_data]    | Downloading package basque_grammars to\n",
            "[nltk_data]    |     /root/nltk_data...\n",
            "[nltk_data]    |   Unzipping grammars/basque_grammars.zip.\n",
            "[nltk_data]    | Downloading package biocreative_ppi to\n",
            "[nltk_data]    |     /root/nltk_data...\n",
            "[nltk_data]    |   Unzipping corpora/biocreative_ppi.zip.\n",
            "[nltk_data]    | Downloading package bllip_wsj_no_aux to\n",
            "[nltk_data]    |     /root/nltk_data...\n",
            "[nltk_data]    |   Unzipping models/bllip_wsj_no_aux.zip.\n",
            "[nltk_data]    | Downloading package book_grammars to\n",
            "[nltk_data]    |     /root/nltk_data...\n",
            "[nltk_data]    |   Unzipping grammars/book_grammars.zip.\n",
            "[nltk_data]    | Downloading package brown to /root/nltk_data...\n",
            "[nltk_data]    |   Unzipping corpora/brown.zip.\n",
            "[nltk_data]    | Downloading package brown_tei to /root/nltk_data...\n",
            "[nltk_data]    |   Unzipping corpora/brown_tei.zip.\n",
            "[nltk_data]    | Downloading package cess_cat to /root/nltk_data...\n",
            "[nltk_data]    |   Unzipping corpora/cess_cat.zip.\n",
            "[nltk_data]    | Downloading package cess_esp to /root/nltk_data...\n",
            "[nltk_data]    |   Unzipping corpora/cess_esp.zip.\n",
            "[nltk_data]    | Downloading package chat80 to /root/nltk_data...\n",
            "[nltk_data]    |   Unzipping corpora/chat80.zip.\n",
            "[nltk_data]    | Downloading package city_database to\n",
            "[nltk_data]    |     /root/nltk_data...\n",
            "[nltk_data]    |   Unzipping corpora/city_database.zip.\n",
            "[nltk_data]    | Downloading package cmudict to /root/nltk_data...\n",
            "[nltk_data]    |   Unzipping corpora/cmudict.zip.\n",
            "[nltk_data]    | Downloading package comparative_sentences to\n",
            "[nltk_data]    |     /root/nltk_data...\n",
            "[nltk_data]    |   Unzipping corpora/comparative_sentences.zip.\n",
            "[nltk_data]    | Downloading package comtrans to /root/nltk_data...\n",
            "[nltk_data]    | Downloading package conll2000 to /root/nltk_data...\n",
            "[nltk_data]    |   Unzipping corpora/conll2000.zip.\n",
            "[nltk_data]    | Downloading package conll2002 to /root/nltk_data...\n",
            "[nltk_data]    |   Unzipping corpora/conll2002.zip.\n",
            "[nltk_data]    | Downloading package conll2007 to /root/nltk_data...\n",
            "[nltk_data]    | Downloading package crubadan to /root/nltk_data...\n",
            "[nltk_data]    |   Unzipping corpora/crubadan.zip.\n",
            "[nltk_data]    | Downloading package dependency_treebank to\n",
            "[nltk_data]    |     /root/nltk_data...\n",
            "[nltk_data]    |   Unzipping corpora/dependency_treebank.zip.\n",
            "[nltk_data]    | Downloading package dolch to /root/nltk_data...\n",
            "[nltk_data]    |   Unzipping corpora/dolch.zip.\n",
            "[nltk_data]    | Downloading package europarl_raw to\n",
            "[nltk_data]    |     /root/nltk_data...\n",
            "[nltk_data]    |   Unzipping corpora/europarl_raw.zip.\n",
            "[nltk_data]    | Downloading package extended_omw to\n",
            "[nltk_data]    |     /root/nltk_data...\n",
            "[nltk_data]    |   Unzipping corpora/extended_omw.zip.\n",
            "[nltk_data]    | Downloading package floresta to /root/nltk_data...\n",
            "[nltk_data]    |   Unzipping corpora/floresta.zip.\n",
            "[nltk_data]    | Downloading package framenet_v15 to\n",
            "[nltk_data]    |     /root/nltk_data...\n",
            "[nltk_data]    |   Unzipping corpora/framenet_v15.zip.\n",
            "[nltk_data]    | Downloading package framenet_v17 to\n",
            "[nltk_data]    |     /root/nltk_data...\n",
            "[nltk_data]    |   Unzipping corpora/framenet_v17.zip.\n",
            "[nltk_data]    | Downloading package gazetteers to /root/nltk_data...\n",
            "[nltk_data]    |   Unzipping corpora/gazetteers.zip.\n",
            "[nltk_data]    | Downloading package genesis to /root/nltk_data...\n",
            "[nltk_data]    |   Unzipping corpora/genesis.zip.\n",
            "[nltk_data]    | Downloading package gutenberg to /root/nltk_data...\n",
            "[nltk_data]    |   Unzipping corpora/gutenberg.zip.\n",
            "[nltk_data]    | Downloading package ieer to /root/nltk_data...\n",
            "[nltk_data]    |   Unzipping corpora/ieer.zip.\n",
            "[nltk_data]    | Downloading package inaugural to /root/nltk_data...\n",
            "[nltk_data]    |   Unzipping corpora/inaugural.zip.\n",
            "[nltk_data]    | Downloading package indian to /root/nltk_data...\n",
            "[nltk_data]    |   Unzipping corpora/indian.zip.\n",
            "[nltk_data]    | Downloading package jeita to /root/nltk_data...\n",
            "[nltk_data]    | Downloading package kimmo to /root/nltk_data...\n",
            "[nltk_data]    |   Unzipping corpora/kimmo.zip.\n",
            "[nltk_data]    | Downloading package knbc to /root/nltk_data...\n",
            "[nltk_data]    | Downloading package large_grammars to\n",
            "[nltk_data]    |     /root/nltk_data...\n",
            "[nltk_data]    |   Unzipping grammars/large_grammars.zip.\n",
            "[nltk_data]    | Downloading package lin_thesaurus to\n",
            "[nltk_data]    |     /root/nltk_data...\n",
            "[nltk_data]    |   Unzipping corpora/lin_thesaurus.zip.\n",
            "[nltk_data]    | Downloading package mac_morpho to /root/nltk_data...\n",
            "[nltk_data]    |   Unzipping corpora/mac_morpho.zip.\n",
            "[nltk_data]    | Downloading package machado to /root/nltk_data...\n",
            "[nltk_data]    | Downloading package masc_tagged to /root/nltk_data...\n",
            "[nltk_data]    | Downloading package maxent_ne_chunker to\n",
            "[nltk_data]    |     /root/nltk_data...\n",
            "[nltk_data]    |   Unzipping chunkers/maxent_ne_chunker.zip.\n",
            "[nltk_data]    | Downloading package maxent_treebank_pos_tagger to\n",
            "[nltk_data]    |     /root/nltk_data...\n",
            "[nltk_data]    |   Unzipping taggers/maxent_treebank_pos_tagger.zip.\n",
            "[nltk_data]    | Downloading package moses_sample to\n",
            "[nltk_data]    |     /root/nltk_data...\n",
            "[nltk_data]    |   Unzipping models/moses_sample.zip.\n",
            "[nltk_data]    | Downloading package movie_reviews to\n",
            "[nltk_data]    |     /root/nltk_data...\n",
            "[nltk_data]    |   Unzipping corpora/movie_reviews.zip.\n",
            "[nltk_data]    | Downloading package mte_teip5 to /root/nltk_data...\n",
            "[nltk_data]    |   Unzipping corpora/mte_teip5.zip.\n",
            "[nltk_data]    | Downloading package mwa_ppdb to /root/nltk_data...\n",
            "[nltk_data]    |   Unzipping misc/mwa_ppdb.zip.\n",
            "[nltk_data]    | Downloading package names to /root/nltk_data...\n",
            "[nltk_data]    |   Unzipping corpora/names.zip.\n",
            "[nltk_data]    | Downloading package nombank.1.0 to /root/nltk_data...\n",
            "[nltk_data]    | Downloading package nonbreaking_prefixes to\n",
            "[nltk_data]    |     /root/nltk_data...\n",
            "[nltk_data]    |   Unzipping corpora/nonbreaking_prefixes.zip.\n",
            "[nltk_data]    | Downloading package nps_chat to /root/nltk_data...\n",
            "[nltk_data]    |   Unzipping corpora/nps_chat.zip.\n",
            "[nltk_data]    | Downloading package omw to /root/nltk_data...\n",
            "[nltk_data]    |   Unzipping corpora/omw.zip.\n",
            "[nltk_data]    | Downloading package omw-1.4 to /root/nltk_data...\n",
            "[nltk_data]    |   Unzipping corpora/omw-1.4.zip.\n",
            "[nltk_data]    | Downloading package opinion_lexicon to\n",
            "[nltk_data]    |     /root/nltk_data...\n",
            "[nltk_data]    |   Unzipping corpora/opinion_lexicon.zip.\n",
            "[nltk_data]    | Downloading package panlex_swadesh to\n",
            "[nltk_data]    |     /root/nltk_data...\n",
            "[nltk_data]    | Downloading package paradigms to /root/nltk_data...\n",
            "[nltk_data]    |   Unzipping corpora/paradigms.zip.\n",
            "[nltk_data]    | Downloading package pe08 to /root/nltk_data...\n",
            "[nltk_data]    |   Unzipping corpora/pe08.zip.\n",
            "[nltk_data]    | Downloading package perluniprops to\n",
            "[nltk_data]    |     /root/nltk_data...\n",
            "[nltk_data]    |   Unzipping misc/perluniprops.zip.\n",
            "[nltk_data]    | Downloading package pil to /root/nltk_data...\n",
            "[nltk_data]    |   Unzipping corpora/pil.zip.\n",
            "[nltk_data]    | Downloading package pl196x to /root/nltk_data...\n",
            "[nltk_data]    |   Unzipping corpora/pl196x.zip.\n",
            "[nltk_data]    | Downloading package porter_test to /root/nltk_data...\n",
            "[nltk_data]    |   Unzipping stemmers/porter_test.zip.\n",
            "[nltk_data]    | Downloading package ppattach to /root/nltk_data...\n",
            "[nltk_data]    |   Unzipping corpora/ppattach.zip.\n",
            "[nltk_data]    | Downloading package problem_reports to\n",
            "[nltk_data]    |     /root/nltk_data...\n",
            "[nltk_data]    |   Unzipping corpora/problem_reports.zip.\n",
            "[nltk_data]    | Downloading package product_reviews_1 to\n",
            "[nltk_data]    |     /root/nltk_data...\n",
            "[nltk_data]    |   Unzipping corpora/product_reviews_1.zip.\n",
            "[nltk_data]    | Downloading package product_reviews_2 to\n",
            "[nltk_data]    |     /root/nltk_data...\n",
            "[nltk_data]    |   Unzipping corpora/product_reviews_2.zip.\n",
            "[nltk_data]    | Downloading package propbank to /root/nltk_data...\n",
            "[nltk_data]    | Downloading package pros_cons to /root/nltk_data...\n",
            "[nltk_data]    |   Unzipping corpora/pros_cons.zip.\n",
            "[nltk_data]    | Downloading package ptb to /root/nltk_data...\n",
            "[nltk_data]    |   Unzipping corpora/ptb.zip.\n",
            "[nltk_data]    | Downloading package punkt to /root/nltk_data...\n",
            "[nltk_data]    |   Package punkt is already up-to-date!\n",
            "[nltk_data]    | Downloading package qc to /root/nltk_data...\n",
            "[nltk_data]    |   Unzipping corpora/qc.zip.\n",
            "[nltk_data]    | Downloading package reuters to /root/nltk_data...\n",
            "[nltk_data]    | Downloading package rslp to /root/nltk_data...\n",
            "[nltk_data]    |   Unzipping stemmers/rslp.zip.\n",
            "[nltk_data]    | Downloading package rte to /root/nltk_data...\n",
            "[nltk_data]    |   Unzipping corpora/rte.zip.\n",
            "[nltk_data]    | Downloading package sample_grammars to\n",
            "[nltk_data]    |     /root/nltk_data...\n",
            "[nltk_data]    |   Unzipping grammars/sample_grammars.zip.\n",
            "[nltk_data]    | Downloading package semcor to /root/nltk_data...\n",
            "[nltk_data]    | Downloading package senseval to /root/nltk_data...\n",
            "[nltk_data]    |   Unzipping corpora/senseval.zip.\n",
            "[nltk_data]    | Downloading package sentence_polarity to\n",
            "[nltk_data]    |     /root/nltk_data...\n",
            "[nltk_data]    |   Unzipping corpora/sentence_polarity.zip.\n",
            "[nltk_data]    | Downloading package sentiwordnet to\n",
            "[nltk_data]    |     /root/nltk_data...\n",
            "[nltk_data]    |   Unzipping corpora/sentiwordnet.zip.\n",
            "[nltk_data]    | Downloading package shakespeare to /root/nltk_data...\n",
            "[nltk_data]    |   Unzipping corpora/shakespeare.zip.\n",
            "[nltk_data]    | Downloading package sinica_treebank to\n",
            "[nltk_data]    |     /root/nltk_data...\n",
            "[nltk_data]    |   Unzipping corpora/sinica_treebank.zip.\n",
            "[nltk_data]    | Downloading package smultron to /root/nltk_data...\n",
            "[nltk_data]    |   Unzipping corpora/smultron.zip.\n",
            "[nltk_data]    | Downloading package snowball_data to\n",
            "[nltk_data]    |     /root/nltk_data...\n",
            "[nltk_data]    | Downloading package spanish_grammars to\n",
            "[nltk_data]    |     /root/nltk_data...\n",
            "[nltk_data]    |   Unzipping grammars/spanish_grammars.zip.\n",
            "[nltk_data]    | Downloading package state_union to /root/nltk_data...\n",
            "[nltk_data]    |   Unzipping corpora/state_union.zip.\n",
            "[nltk_data]    | Downloading package stopwords to /root/nltk_data...\n",
            "[nltk_data]    |   Unzipping corpora/stopwords.zip.\n",
            "[nltk_data]    | Downloading package subjectivity to\n",
            "[nltk_data]    |     /root/nltk_data...\n",
            "[nltk_data]    |   Unzipping corpora/subjectivity.zip.\n",
            "[nltk_data]    | Downloading package swadesh to /root/nltk_data...\n",
            "[nltk_data]    |   Unzipping corpora/swadesh.zip.\n",
            "[nltk_data]    | Downloading package switchboard to /root/nltk_data...\n",
            "[nltk_data]    |   Unzipping corpora/switchboard.zip.\n",
            "[nltk_data]    | Downloading package tagsets to /root/nltk_data...\n",
            "[nltk_data]    |   Unzipping help/tagsets.zip.\n",
            "[nltk_data]    | Downloading package timit to /root/nltk_data...\n",
            "[nltk_data]    |   Unzipping corpora/timit.zip.\n",
            "[nltk_data]    | Downloading package toolbox to /root/nltk_data...\n",
            "[nltk_data]    |   Unzipping corpora/toolbox.zip.\n",
            "[nltk_data]    | Downloading package treebank to /root/nltk_data...\n",
            "[nltk_data]    |   Unzipping corpora/treebank.zip.\n",
            "[nltk_data]    | Downloading package twitter_samples to\n",
            "[nltk_data]    |     /root/nltk_data...\n",
            "[nltk_data]    |   Unzipping corpora/twitter_samples.zip.\n",
            "[nltk_data]    | Downloading package udhr to /root/nltk_data...\n",
            "[nltk_data]    |   Unzipping corpora/udhr.zip.\n",
            "[nltk_data]    | Downloading package udhr2 to /root/nltk_data...\n",
            "[nltk_data]    |   Unzipping corpora/udhr2.zip.\n",
            "[nltk_data]    | Downloading package unicode_samples to\n",
            "[nltk_data]    |     /root/nltk_data...\n",
            "[nltk_data]    |   Unzipping corpora/unicode_samples.zip.\n",
            "[nltk_data]    | Downloading package universal_tagset to\n",
            "[nltk_data]    |     /root/nltk_data...\n",
            "[nltk_data]    |   Unzipping taggers/universal_tagset.zip.\n",
            "[nltk_data]    | Downloading package universal_treebanks_v20 to\n",
            "[nltk_data]    |     /root/nltk_data...\n",
            "[nltk_data]    | Downloading package vader_lexicon to\n",
            "[nltk_data]    |     /root/nltk_data...\n",
            "[nltk_data]    | Downloading package verbnet to /root/nltk_data...\n",
            "[nltk_data]    |   Unzipping corpora/verbnet.zip.\n",
            "[nltk_data]    | Downloading package verbnet3 to /root/nltk_data...\n",
            "[nltk_data]    |   Unzipping corpora/verbnet3.zip.\n",
            "[nltk_data]    | Downloading package webtext to /root/nltk_data...\n",
            "[nltk_data]    |   Unzipping corpora/webtext.zip.\n",
            "[nltk_data]    | Downloading package wmt15_eval to /root/nltk_data...\n",
            "[nltk_data]    |   Unzipping models/wmt15_eval.zip.\n",
            "[nltk_data]    | Downloading package word2vec_sample to\n",
            "[nltk_data]    |     /root/nltk_data...\n",
            "[nltk_data]    |   Unzipping models/word2vec_sample.zip.\n",
            "[nltk_data]    | Downloading package wordnet to /root/nltk_data...\n",
            "[nltk_data]    |   Unzipping corpora/wordnet.zip.\n",
            "[nltk_data]    | Downloading package wordnet2021 to /root/nltk_data...\n",
            "[nltk_data]    |   Unzipping corpora/wordnet2021.zip.\n",
            "[nltk_data]    | Downloading package wordnet31 to /root/nltk_data...\n",
            "[nltk_data]    |   Unzipping corpora/wordnet31.zip.\n",
            "[nltk_data]    | Downloading package wordnet_ic to /root/nltk_data...\n",
            "[nltk_data]    |   Unzipping corpora/wordnet_ic.zip.\n",
            "[nltk_data]    | Downloading package words to /root/nltk_data...\n",
            "[nltk_data]    |   Unzipping corpora/words.zip.\n",
            "[nltk_data]    | Downloading package ycoe to /root/nltk_data...\n",
            "[nltk_data]    |   Unzipping corpora/ycoe.zip.\n",
            "[nltk_data]    | \n",
            "[nltk_data]  Done downloading collection all\n"
          ]
        },
        {
          "output_type": "execute_result",
          "data": {
            "text/plain": [
              "True"
            ]
          },
          "metadata": {},
          "execution_count": 10
        }
      ]
    },
    {
      "cell_type": "code",
      "source": [
        "lemmatizer=WordNetLemmatizer()"
      ],
      "metadata": {
        "id": "Y7t7_QyfeCAH"
      },
      "execution_count": null,
      "outputs": []
    },
    {
      "cell_type": "code",
      "source": [
        "lemmatizer.lemmatize('going')"
      ],
      "metadata": {
        "colab": {
          "base_uri": "https://localhost:8080/",
          "height": 35
        },
        "id": "ieXUGYnxePoJ",
        "outputId": "88d8f201-b174-45ef-fcd7-8ac7440ba9c9"
      },
      "execution_count": null,
      "outputs": [
        {
          "output_type": "execute_result",
          "data": {
            "text/plain": [
              "'going'"
            ],
            "application/vnd.google.colaboratory.intrinsic+json": {
              "type": "string"
            }
          },
          "metadata": {},
          "execution_count": 12
        }
      ]
    },
    {
      "cell_type": "code",
      "source": [
        " len(sentences)"
      ],
      "metadata": {
        "colab": {
          "base_uri": "https://localhost:8080/"
        },
        "id": "vOQ619eTeYLX",
        "outputId": "47417df4-d691-43f1-f8a1-302ba31dcbc0"
      },
      "execution_count": null,
      "outputs": [
        {
          "output_type": "execute_result",
          "data": {
            "text/plain": [
              "9"
            ]
          },
          "metadata": {},
          "execution_count": 13
        }
      ]
    },
    {
      "cell_type": "code",
      "source": [
        "import re"
      ],
      "metadata": {
        "id": "49wYRowS4WJb"
      },
      "execution_count": null,
      "outputs": []
    },
    {
      "cell_type": "code",
      "source": [
        "#clean entire text of special characters\n",
        "corpus=[]\n",
        "for i in range(len(sentences)):\n",
        "  review=re.sub('[^a-zA-Z]', ' ', sentences[i])\n",
        "  review=review.lower()\n",
        "  corpus.append(review)"
      ],
      "metadata": {
        "id": "2o_h60bX6TIY"
      },
      "execution_count": null,
      "outputs": []
    },
    {
      "cell_type": "code",
      "source": [
        "corpus"
      ],
      "metadata": {
        "colab": {
          "base_uri": "https://localhost:8080/"
        },
        "id": "fNrC0KtI7fgm",
        "outputId": "88815afe-f6f8-43ea-aa32-64538c4dce3a"
      },
      "execution_count": null,
      "outputs": [
        {
          "output_type": "execute_result",
          "data": {
            "text/plain": [
              "[' apart from design commonalities and few critical systems from its predecessor tejas mark  a  most of the technologies are to be borrowed from whatever has been developed so far for advanced medium combat aircraft programmme ',\n",
              " 'several radar cross section reducing measures will be incorporated in the airframe design so that a degree of frontal stealth can be achieved  including radar absorbent material coating and composites making up its skin and twisted air intake ducts ',\n",
              " 'it has a tail less compound delta wing configuration with a single vertical stabilizer and close coupled canards to provide static instability and high manoeuvrability  and is equipped with fly by wire systems to control instability ',\n",
              " 'this mwf is also to feature an indigenous integrated life support system onboard oxygen generation system  ilss obogs   from defence bioengineering and electromedical laboratory  aircraft health and usage monitoring system to integrate various sensors onboard tejas mark   from defence institute of advanced technology and a built in integrated electro optic electronic warfare suite  among other improvements to avionics ',\n",
              " '              it will have an infra red search and track  irst  system and a missile approach warning system ',\n",
              " '     an increase in payload capacity to       kg         lb  and internal fuel capacity to over       kg        lb   will allow it to carry more weapons with a longer range ',\n",
              " '      sensors and avionics the avionics of tejas mark   will be centered on multisensor data fusion incorporating both active and passive sensors on board ',\n",
              " 'the tejas mark   would be equipped with a variant of uttam aesa radar developed by electronics and radar development establishment  while the combat aircraft will also have an integrated irst system for passive target acquisition ',\n",
              " 'the tejas mark   will have indigenous software defined radio based tactical data link for secured communication and network centric warfare capabilities supported by the iaf s afnet digital information grid ']"
            ]
          },
          "metadata": {},
          "execution_count": 16
        }
      ]
    },
    {
      "cell_type": "code",
      "source": [
        "stopwords.words('english')"
      ],
      "metadata": {
        "colab": {
          "base_uri": "https://localhost:8080/"
        },
        "id": "gjyr1_hq-h6M",
        "outputId": "5fe91b2b-7775-4a7e-c3eb-b5e4e75d6323"
      },
      "execution_count": null,
      "outputs": [
        {
          "output_type": "execute_result",
          "data": {
            "text/plain": [
              "['i',\n",
              " 'me',\n",
              " 'my',\n",
              " 'myself',\n",
              " 'we',\n",
              " 'our',\n",
              " 'ours',\n",
              " 'ourselves',\n",
              " 'you',\n",
              " \"you're\",\n",
              " \"you've\",\n",
              " \"you'll\",\n",
              " \"you'd\",\n",
              " 'your',\n",
              " 'yours',\n",
              " 'yourself',\n",
              " 'yourselves',\n",
              " 'he',\n",
              " 'him',\n",
              " 'his',\n",
              " 'himself',\n",
              " 'she',\n",
              " \"she's\",\n",
              " 'her',\n",
              " 'hers',\n",
              " 'herself',\n",
              " 'it',\n",
              " \"it's\",\n",
              " 'its',\n",
              " 'itself',\n",
              " 'they',\n",
              " 'them',\n",
              " 'their',\n",
              " 'theirs',\n",
              " 'themselves',\n",
              " 'what',\n",
              " 'which',\n",
              " 'who',\n",
              " 'whom',\n",
              " 'this',\n",
              " 'that',\n",
              " \"that'll\",\n",
              " 'these',\n",
              " 'those',\n",
              " 'am',\n",
              " 'is',\n",
              " 'are',\n",
              " 'was',\n",
              " 'were',\n",
              " 'be',\n",
              " 'been',\n",
              " 'being',\n",
              " 'have',\n",
              " 'has',\n",
              " 'had',\n",
              " 'having',\n",
              " 'do',\n",
              " 'does',\n",
              " 'did',\n",
              " 'doing',\n",
              " 'a',\n",
              " 'an',\n",
              " 'the',\n",
              " 'and',\n",
              " 'but',\n",
              " 'if',\n",
              " 'or',\n",
              " 'because',\n",
              " 'as',\n",
              " 'until',\n",
              " 'while',\n",
              " 'of',\n",
              " 'at',\n",
              " 'by',\n",
              " 'for',\n",
              " 'with',\n",
              " 'about',\n",
              " 'against',\n",
              " 'between',\n",
              " 'into',\n",
              " 'through',\n",
              " 'during',\n",
              " 'before',\n",
              " 'after',\n",
              " 'above',\n",
              " 'below',\n",
              " 'to',\n",
              " 'from',\n",
              " 'up',\n",
              " 'down',\n",
              " 'in',\n",
              " 'out',\n",
              " 'on',\n",
              " 'off',\n",
              " 'over',\n",
              " 'under',\n",
              " 'again',\n",
              " 'further',\n",
              " 'then',\n",
              " 'once',\n",
              " 'here',\n",
              " 'there',\n",
              " 'when',\n",
              " 'where',\n",
              " 'why',\n",
              " 'how',\n",
              " 'all',\n",
              " 'any',\n",
              " 'both',\n",
              " 'each',\n",
              " 'few',\n",
              " 'more',\n",
              " 'most',\n",
              " 'other',\n",
              " 'some',\n",
              " 'such',\n",
              " 'no',\n",
              " 'nor',\n",
              " 'not',\n",
              " 'only',\n",
              " 'own',\n",
              " 'same',\n",
              " 'so',\n",
              " 'than',\n",
              " 'too',\n",
              " 'very',\n",
              " 's',\n",
              " 't',\n",
              " 'can',\n",
              " 'will',\n",
              " 'just',\n",
              " 'don',\n",
              " \"don't\",\n",
              " 'should',\n",
              " \"should've\",\n",
              " 'now',\n",
              " 'd',\n",
              " 'll',\n",
              " 'm',\n",
              " 'o',\n",
              " 're',\n",
              " 've',\n",
              " 'y',\n",
              " 'ain',\n",
              " 'aren',\n",
              " \"aren't\",\n",
              " 'couldn',\n",
              " \"couldn't\",\n",
              " 'didn',\n",
              " \"didn't\",\n",
              " 'doesn',\n",
              " \"doesn't\",\n",
              " 'hadn',\n",
              " \"hadn't\",\n",
              " 'hasn',\n",
              " \"hasn't\",\n",
              " 'haven',\n",
              " \"haven't\",\n",
              " 'isn',\n",
              " \"isn't\",\n",
              " 'ma',\n",
              " 'mightn',\n",
              " \"mightn't\",\n",
              " 'mustn',\n",
              " \"mustn't\",\n",
              " 'needn',\n",
              " \"needn't\",\n",
              " 'shan',\n",
              " \"shan't\",\n",
              " 'shouldn',\n",
              " \"shouldn't\",\n",
              " 'wasn',\n",
              " \"wasn't\",\n",
              " 'weren',\n",
              " \"weren't\",\n",
              " 'won',\n",
              " \"won't\",\n",
              " 'wouldn',\n",
              " \"wouldn't\"]"
            ]
          },
          "metadata": {},
          "execution_count": 17
        }
      ]
    },
    {
      "cell_type": "code",
      "source": [
        "#appply bag of words\n",
        "#applying stemming on entire corpus\n",
        "\n",
        "for i in corpus:\n",
        "  words= nltk.word_tokenize(i)\n",
        "  for word in words:\n",
        "    if word not in set(stopwords.words('english')):\n",
        "      print(lemmatizer.lemmatize(word))"
      ],
      "metadata": {
        "colab": {
          "base_uri": "https://localhost:8080/"
        },
        "id": "jLFxNF-F7q3f",
        "outputId": "2bda300b-e0c7-4c5c-ceb8-a02223acced8"
      },
      "execution_count": null,
      "outputs": [
        {
          "output_type": "stream",
          "name": "stdout",
          "text": [
            "apart\n",
            "design\n",
            "commonality\n",
            "critical\n",
            "system\n",
            "predecessor\n",
            "tejas\n",
            "mark\n",
            "technology\n",
            "borrowed\n",
            "whatever\n",
            "developed\n",
            "far\n",
            "advanced\n",
            "medium\n",
            "combat\n",
            "aircraft\n",
            "programmme\n",
            "several\n",
            "radar\n",
            "cross\n",
            "section\n",
            "reducing\n",
            "measure\n",
            "incorporated\n",
            "airframe\n",
            "design\n",
            "degree\n",
            "frontal\n",
            "stealth\n",
            "achieved\n",
            "including\n",
            "radar\n",
            "absorbent\n",
            "material\n",
            "coating\n",
            "composite\n",
            "making\n",
            "skin\n",
            "twisted\n",
            "air\n",
            "intake\n",
            "duct\n",
            "tail\n",
            "le\n",
            "compound\n",
            "delta\n",
            "wing\n",
            "configuration\n",
            "single\n",
            "vertical\n",
            "stabilizer\n",
            "close\n",
            "coupled\n",
            "canard\n",
            "provide\n",
            "static\n",
            "instability\n",
            "high\n",
            "manoeuvrability\n",
            "equipped\n",
            "fly\n",
            "wire\n",
            "system\n",
            "control\n",
            "instability\n",
            "mwf\n",
            "also\n",
            "feature\n",
            "indigenous\n",
            "integrated\n",
            "life\n",
            "support\n",
            "system\n",
            "onboard\n",
            "oxygen\n",
            "generation\n",
            "system\n",
            "il\n",
            "obogs\n",
            "defence\n",
            "bioengineering\n",
            "electromedical\n",
            "laboratory\n",
            "aircraft\n",
            "health\n",
            "usage\n",
            "monitoring\n",
            "system\n",
            "integrate\n",
            "various\n",
            "sensor\n",
            "onboard\n",
            "tejas\n",
            "mark\n",
            "defence\n",
            "institute\n",
            "advanced\n",
            "technology\n",
            "built\n",
            "integrated\n",
            "electro\n",
            "optic\n",
            "electronic\n",
            "warfare\n",
            "suite\n",
            "among\n",
            "improvement\n",
            "avionics\n",
            "infra\n",
            "red\n",
            "search\n",
            "track\n",
            "irst\n",
            "system\n",
            "missile\n",
            "approach\n",
            "warning\n",
            "system\n",
            "increase\n",
            "payload\n",
            "capacity\n",
            "kg\n",
            "lb\n",
            "internal\n",
            "fuel\n",
            "capacity\n",
            "kg\n",
            "lb\n",
            "allow\n",
            "carry\n",
            "weapon\n",
            "longer\n",
            "range\n",
            "sensor\n",
            "avionics\n",
            "avionics\n",
            "tejas\n",
            "mark\n",
            "centered\n",
            "multisensor\n",
            "data\n",
            "fusion\n",
            "incorporating\n",
            "active\n",
            "passive\n",
            "sensor\n",
            "board\n",
            "tejas\n",
            "mark\n",
            "would\n",
            "equipped\n",
            "variant\n",
            "uttam\n",
            "aesa\n",
            "radar\n",
            "developed\n",
            "electronics\n",
            "radar\n",
            "development\n",
            "establishment\n",
            "combat\n",
            "aircraft\n",
            "also\n",
            "integrated\n",
            "irst\n",
            "system\n",
            "passive\n",
            "target\n",
            "acquisition\n",
            "tejas\n",
            "mark\n",
            "indigenous\n",
            "software\n",
            "defined\n",
            "radio\n",
            "based\n",
            "tactical\n",
            "data\n",
            "link\n",
            "secured\n",
            "communication\n",
            "network\n",
            "centric\n",
            "warfare\n",
            "capability\n",
            "supported\n",
            "iaf\n",
            "afnet\n",
            "digital\n",
            "information\n",
            "grid\n"
          ]
        }
      ]
    },
    {
      "cell_type": "code",
      "source": [
        "#bag of words\n",
        "from sklearn.feature_extraction.text import CountVectorizer\n",
        "cv=CountVectorizer(binary=True)\n"
      ],
      "metadata": {
        "id": "IJX-NgZ6-fv3"
      },
      "execution_count": null,
      "outputs": []
    },
    {
      "cell_type": "code",
      "source": [
        "X=cv.fit_transform(corpus)"
      ],
      "metadata": {
        "id": "6RUnQPNT-aMB"
      },
      "execution_count": null,
      "outputs": []
    },
    {
      "cell_type": "code",
      "source": [
        "cv.vocabulary_"
      ],
      "metadata": {
        "colab": {
          "base_uri": "https://localhost:8080/"
        },
        "id": "idgKcB289YNh",
        "outputId": "60a5de77-f4e8-4922-9484-9edc47dbac36"
      },
      "execution_count": null,
      "outputs": [
        {
          "output_type": "execute_result",
          "data": {
            "text/plain": [
              "{'absorbent': 0,\n",
              " 'achieved': 1,\n",
              " 'acquisition': 2,\n",
              " 'active': 3,\n",
              " 'advanced': 4,\n",
              " 'aesa': 5,\n",
              " 'afnet': 6,\n",
              " 'air': 7,\n",
              " 'aircraft': 8,\n",
              " 'airframe': 9,\n",
              " 'allow': 10,\n",
              " 'also': 11,\n",
              " 'among': 12,\n",
              " 'an': 13,\n",
              " 'and': 14,\n",
              " 'apart': 15,\n",
              " 'approach': 16,\n",
              " 'are': 17,\n",
              " 'avionics': 18,\n",
              " 'based': 19,\n",
              " 'be': 20,\n",
              " 'been': 21,\n",
              " 'bioengineering': 22,\n",
              " 'board': 23,\n",
              " 'borrowed': 24,\n",
              " 'both': 25,\n",
              " 'built': 26,\n",
              " 'by': 27,\n",
              " 'can': 28,\n",
              " 'canards': 29,\n",
              " 'capabilities': 30,\n",
              " 'capacity': 31,\n",
              " 'carry': 32,\n",
              " 'centered': 33,\n",
              " 'centric': 34,\n",
              " 'close': 35,\n",
              " 'coating': 36,\n",
              " 'combat': 37,\n",
              " 'commonalities': 38,\n",
              " 'communication': 39,\n",
              " 'composites': 40,\n",
              " 'compound': 41,\n",
              " 'configuration': 42,\n",
              " 'control': 43,\n",
              " 'coupled': 44,\n",
              " 'critical': 45,\n",
              " 'cross': 46,\n",
              " 'data': 47,\n",
              " 'defence': 48,\n",
              " 'defined': 49,\n",
              " 'degree': 50,\n",
              " 'delta': 51,\n",
              " 'design': 52,\n",
              " 'developed': 53,\n",
              " 'development': 54,\n",
              " 'digital': 55,\n",
              " 'ducts': 56,\n",
              " 'electro': 57,\n",
              " 'electromedical': 58,\n",
              " 'electronic': 59,\n",
              " 'electronics': 60,\n",
              " 'equipped': 61,\n",
              " 'establishment': 62,\n",
              " 'far': 63,\n",
              " 'feature': 64,\n",
              " 'few': 65,\n",
              " 'fly': 66,\n",
              " 'for': 67,\n",
              " 'from': 68,\n",
              " 'frontal': 69,\n",
              " 'fuel': 70,\n",
              " 'fusion': 71,\n",
              " 'generation': 72,\n",
              " 'grid': 73,\n",
              " 'has': 74,\n",
              " 'have': 75,\n",
              " 'health': 76,\n",
              " 'high': 77,\n",
              " 'iaf': 78,\n",
              " 'ilss': 79,\n",
              " 'improvements': 80,\n",
              " 'in': 81,\n",
              " 'including': 82,\n",
              " 'incorporated': 83,\n",
              " 'incorporating': 84,\n",
              " 'increase': 85,\n",
              " 'indigenous': 86,\n",
              " 'information': 87,\n",
              " 'infra': 88,\n",
              " 'instability': 89,\n",
              " 'institute': 90,\n",
              " 'intake': 91,\n",
              " 'integrate': 92,\n",
              " 'integrated': 93,\n",
              " 'internal': 94,\n",
              " 'irst': 95,\n",
              " 'is': 96,\n",
              " 'it': 97,\n",
              " 'its': 98,\n",
              " 'kg': 99,\n",
              " 'laboratory': 100,\n",
              " 'lb': 101,\n",
              " 'less': 102,\n",
              " 'life': 103,\n",
              " 'link': 104,\n",
              " 'longer': 105,\n",
              " 'making': 106,\n",
              " 'manoeuvrability': 107,\n",
              " 'mark': 108,\n",
              " 'material': 109,\n",
              " 'measures': 110,\n",
              " 'medium': 111,\n",
              " 'missile': 112,\n",
              " 'monitoring': 113,\n",
              " 'more': 114,\n",
              " 'most': 115,\n",
              " 'multisensor': 116,\n",
              " 'mwf': 117,\n",
              " 'network': 118,\n",
              " 'obogs': 119,\n",
              " 'of': 120,\n",
              " 'on': 121,\n",
              " 'onboard': 122,\n",
              " 'optic': 123,\n",
              " 'other': 124,\n",
              " 'over': 125,\n",
              " 'oxygen': 126,\n",
              " 'passive': 127,\n",
              " 'payload': 128,\n",
              " 'predecessor': 129,\n",
              " 'programmme': 130,\n",
              " 'provide': 131,\n",
              " 'radar': 132,\n",
              " 'radio': 133,\n",
              " 'range': 134,\n",
              " 'red': 135,\n",
              " 'reducing': 136,\n",
              " 'search': 137,\n",
              " 'section': 138,\n",
              " 'secured': 139,\n",
              " 'sensors': 140,\n",
              " 'several': 141,\n",
              " 'single': 142,\n",
              " 'skin': 143,\n",
              " 'so': 144,\n",
              " 'software': 145,\n",
              " 'stabilizer': 146,\n",
              " 'static': 147,\n",
              " 'stealth': 148,\n",
              " 'suite': 149,\n",
              " 'support': 150,\n",
              " 'supported': 151,\n",
              " 'system': 152,\n",
              " 'systems': 153,\n",
              " 'tactical': 154,\n",
              " 'tail': 155,\n",
              " 'target': 156,\n",
              " 'technologies': 157,\n",
              " 'technology': 158,\n",
              " 'tejas': 159,\n",
              " 'that': 160,\n",
              " 'the': 161,\n",
              " 'this': 162,\n",
              " 'to': 163,\n",
              " 'track': 164,\n",
              " 'twisted': 165,\n",
              " 'up': 166,\n",
              " 'usage': 167,\n",
              " 'uttam': 168,\n",
              " 'variant': 169,\n",
              " 'various': 170,\n",
              " 'vertical': 171,\n",
              " 'warfare': 172,\n",
              " 'warning': 173,\n",
              " 'weapons': 174,\n",
              " 'whatever': 175,\n",
              " 'while': 176,\n",
              " 'will': 177,\n",
              " 'wing': 178,\n",
              " 'wire': 179,\n",
              " 'with': 180,\n",
              " 'would': 181}"
            ]
          },
          "metadata": {},
          "execution_count": 21
        }
      ]
    },
    {
      "cell_type": "code",
      "source": [
        "corpus[0]"
      ],
      "metadata": {
        "colab": {
          "base_uri": "https://localhost:8080/",
          "height": 70
        },
        "id": "GthKG1uz9usR",
        "outputId": "39ceb81e-d9b3-490d-e637-97207f68b483"
      },
      "execution_count": null,
      "outputs": [
        {
          "output_type": "execute_result",
          "data": {
            "text/plain": [
              "' apart from design commonalities and few critical systems from its predecessor tejas mark  a  most of the technologies are to be borrowed from whatever has been developed so far for advanced medium combat aircraft programmme '"
            ],
            "application/vnd.google.colaboratory.intrinsic+json": {
              "type": "string"
            }
          },
          "metadata": {},
          "execution_count": 22
        }
      ]
    },
    {
      "cell_type": "code",
      "source": [
        "X[0].toarray()\n",
        "#Notice SPARCITY"
      ],
      "metadata": {
        "colab": {
          "base_uri": "https://localhost:8080/"
        },
        "id": "COzXSIglALIk",
        "outputId": "ae3c74bd-ff63-4518-9413-099f36a49980"
      },
      "execution_count": null,
      "outputs": [
        {
          "output_type": "execute_result",
          "data": {
            "text/plain": [
              "array([[0, 0, 0, 0, 1, 0, 0, 0, 1, 0, 0, 0, 0, 0, 1, 1, 0, 1, 0, 0, 1, 1,\n",
              "        0, 0, 1, 0, 0, 0, 0, 0, 0, 0, 0, 0, 0, 0, 0, 1, 1, 0, 0, 0, 0, 0,\n",
              "        0, 1, 0, 0, 0, 0, 0, 0, 1, 1, 0, 0, 0, 0, 0, 0, 0, 0, 0, 1, 0, 1,\n",
              "        0, 1, 1, 0, 0, 0, 0, 0, 1, 0, 0, 0, 0, 0, 0, 0, 0, 0, 0, 0, 0, 0,\n",
              "        0, 0, 0, 0, 0, 0, 0, 0, 0, 0, 1, 0, 0, 0, 0, 0, 0, 0, 0, 0, 1, 0,\n",
              "        0, 1, 0, 0, 0, 1, 0, 0, 0, 0, 1, 0, 0, 0, 0, 0, 0, 0, 0, 1, 1, 0,\n",
              "        0, 0, 0, 0, 0, 0, 0, 0, 0, 0, 0, 0, 1, 0, 0, 0, 0, 0, 0, 0, 0, 1,\n",
              "        0, 0, 0, 1, 0, 1, 0, 1, 0, 1, 0, 0, 0, 0, 0, 0, 0, 0, 0, 0, 0, 1,\n",
              "        0, 0, 0, 0, 0, 0]])"
            ]
          },
          "metadata": {},
          "execution_count": 23
        }
      ]
    },
    {
      "cell_type": "code",
      "source": [
        "### TFIDF\n",
        "from sklearn.feature_extraction.text import TfidfVectorizer\n",
        "cv=TfidfVectorizer(ngram_range=(1,1),max_features=10)\n",
        "X= cv.fit_transform(corpus)"
      ],
      "metadata": {
        "id": "INA2YDkzAUjp"
      },
      "execution_count": null,
      "outputs": []
    },
    {
      "cell_type": "code",
      "source": [
        "corpus[0]"
      ],
      "metadata": {
        "colab": {
          "base_uri": "https://localhost:8080/",
          "height": 70
        },
        "id": "kgrVouFaU5bc",
        "outputId": "cb90b328-2bb8-4cd6-b8d0-5456bb18506f"
      },
      "execution_count": null,
      "outputs": [
        {
          "output_type": "execute_result",
          "data": {
            "text/plain": [
              "' apart from design commonalities and few critical systems from its predecessor tejas mark  a  most of the technologies are to be borrowed from whatever has been developed so far for advanced medium combat aircraft programmme '"
            ],
            "application/vnd.google.colaboratory.intrinsic+json": {
              "type": "string"
            }
          },
          "metadata": {},
          "execution_count": 41
        }
      ]
    },
    {
      "cell_type": "code",
      "source": [
        "X[0].toarray()"
      ],
      "metadata": {
        "colab": {
          "base_uri": "https://localhost:8080/"
        },
        "id": "y63a_3szVbHy",
        "outputId": "35e5349f-a1ce-4d92-d162-8d8daed55c3e"
      },
      "execution_count": null,
      "outputs": [
        {
          "output_type": "execute_result",
          "data": {
            "text/plain": [
              "array([[0.12955223, 0.21935099, 0.85658875, 0.19573082, 0.19573082,\n",
              "        0.        , 0.19573082, 0.19573082, 0.21935099, 0.        ]])"
            ]
          },
          "metadata": {},
          "execution_count": 42
        }
      ]
    },
    {
      "cell_type": "code",
      "source": [
        ""
      ],
      "metadata": {
        "id": "-sROjQBpXZAA"
      },
      "execution_count": null,
      "outputs": []
    }
  ]
}